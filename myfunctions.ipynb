{
  "nbformat": 4,
  "nbformat_minor": 0,
  "metadata": {
    "colab": {
      "provenance": [],
      "authorship_tag": "ABX9TyNouYya5G5kfuDEoNaT/TA/",
      "include_colab_link": true
    },
    "kernelspec": {
      "name": "python3",
      "display_name": "Python 3"
    },
    "language_info": {
      "name": "python"
    }
  },
  "cells": [
    {
      "cell_type": "markdown",
      "metadata": {
        "id": "view-in-github",
        "colab_type": "text"
      },
      "source": [
        "<a href=\"https://colab.research.google.com/github/badmsconfig/DZ_4/blob/main/myfunctions.ipynb\" target=\"_parent\"><img src=\"https://colab.research.google.com/assets/colab-badge.svg\" alt=\"Open In Colab\"/></a>"
      ]
    },
    {
      "cell_type": "code",
      "execution_count": null,
      "metadata": {
        "colab": {
          "base_uri": "https://localhost:8080/"
        },
        "id": "Vn07m--MIU99",
        "outputId": "376cd707-644c-4bdc-e67d-c1290d28210f"
      },
      "outputs": [
        {
          "output_type": "stream",
          "name": "stdout",
          "text": [
            "True\n"
          ]
        }
      ],
      "source": [
        "def simple_separator():\n",
        "    \"\"\"\n",
        "    Функция создает красивый разделитель из 10-и звездочек (**********)\n",
        "    :return: **********\n",
        "    \"\"\"\n",
        "    return '*' * 10\n",
        "\n",
        "print(simple_separator() == '**********')  # True\n"
      ]
    },
    {
      "cell_type": "code",
      "source": [
        "def long_separator(count):\n",
        "    \"\"\"\n",
        "    Функция создает разделитель из звездочек, число которых можно регулировать параметром count\n",
        "    :param count: количество звездочек\n",
        "    :return: строка разделитель\n",
        "    \"\"\"\n",
        "    return '*' * count\n",
        "\n",
        "print(long_separator(3) == '***')  # True\n",
        "print(long_separator(4) == '****')  # True\n",
        "\n",
        "result1 = long_separator(90)\n",
        "print(result1)\n",
        "result2 = long_separator(777)\n",
        "print(result2)"
      ],
      "metadata": {
        "colab": {
          "base_uri": "https://localhost:8080/"
        },
        "id": "20iP5mrnKeJx",
        "outputId": "126e8eae-7d67-4c69-8e1b-567f2a81ca1b"
      },
      "execution_count": null,
      "outputs": [
        {
          "output_type": "stream",
          "name": "stdout",
          "text": [
            "True\n",
            "True\n",
            "******************************************************************************************\n",
            "*********************************************************************************************************************************************************************************************************************************************************************************************************************************************************************************************************************************************************************************************************************************************************************************************************************************************************************************************************************************************************************************************************\n"
          ]
        }
      ]
    },
    {
      "cell_type": "code",
      "source": [
        "def separator(simbol, count):\n",
        "    \"\"\"\n",
        "    Функция создает разделитель из любых символов любого количества\n",
        "    :param simbol: символ разделителя\n",
        "    :param count: количество повторений\n",
        "    :return: строка разделитель\n",
        "    \"\"\"\n",
        "    return simbol * count\n",
        "\n",
        "print(separator('*', 99))  # Вывод: '***'\n",
        "print(separator('-', 55))  # Вывод: '-----'\n"
      ],
      "metadata": {
        "colab": {
          "base_uri": "https://localhost:8080/"
        },
        "id": "WBBpIIeLNv9s",
        "outputId": "e4cbe7a7-0420-4c81-a9cc-9b4bd536dbe1"
      },
      "execution_count": null,
      "outputs": [
        {
          "output_type": "stream",
          "name": "stdout",
          "text": [
            "***************************************************************************************************\n",
            "-------------------------------------------------------\n"
          ]
        }
      ]
    },
    {
      "cell_type": "code",
      "source": [
        "def hello_world():\n",
        "    \"\"\"\n",
        "    Функция печатает Hello World в формате:\n",
        "    **********\n",
        "\n",
        "    Hello World!\n",
        "\n",
        "    ##########\n",
        "    :return: None\n",
        "    \"\"\"\n",
        "    print('*' * 10 + '\\nHello World!\\n' + '#' * 10)\n",
        "\n",
        "hello_world()"
      ],
      "metadata": {
        "colab": {
          "base_uri": "https://localhost:8080/"
        },
        "id": "gSfGznDNOx5z",
        "outputId": "a1f5e67b-6d2c-4500-ccb2-9e52352810be"
      },
      "execution_count": null,
      "outputs": [
        {
          "output_type": "stream",
          "name": "stdout",
          "text": [
            "**********\n",
            "Hello World!\n",
            "##########\n"
          ]
        }
      ]
    },
    {
      "cell_type": "code",
      "source": [
        "def hello_who(who='World'):\n",
        "    \"\"\"\n",
        "    Функция печатает приветствие в красивом формате\n",
        "    **********\n",
        "\n",
        "    Hello {who}!\n",
        "\n",
        "    ##########\n",
        "    :param who: кого мы приветствуем, по умолчанию World\n",
        "    :return: None\n",
        "    \"\"\"\n",
        "    separator('*' * 10, 1)\n",
        "    print(f\"\\nHello {who}!\\n\")\n",
        "    separator('#' * 10, 1)\n",
        "\n",
        "def separator(simbol, count):\n",
        "    \"\"\"\n",
        "    Функция создает разделитель из любых символов любого количества\n",
        "    :param simbol: символ разделителя\n",
        "    :param count: количество повторений\n",
        "    :return: строка разделитель\n",
        "    \"\"\"\n",
        "    print(simbol * count)\n",
        "\n",
        "hello_who()\n",
        "hello_who('Max')\n",
        "hello_who('Kate')"
      ],
      "metadata": {
        "colab": {
          "base_uri": "https://localhost:8080/"
        },
        "id": "K02jjs5sQmEv",
        "outputId": "e8b61b76-35fb-42e7-ddc8-d3337e2e8bc4"
      },
      "execution_count": 1,
      "outputs": [
        {
          "output_type": "stream",
          "name": "stdout",
          "text": [
            "**********\n",
            "\n",
            "Hello World!\n",
            "\n",
            "##########\n",
            "**********\n",
            "\n",
            "Hello Max!\n",
            "\n",
            "##########\n",
            "**********\n",
            "\n",
            "Hello Kate!\n",
            "\n",
            "##########\n"
          ]
        }
      ]
    },
    {
      "cell_type": "code",
      "source": [
        "def pow_many(power, *args):\n",
        "    \"\"\"\n",
        "    Функция складывает любое количество цифр и возводит результат в степень power\n",
        "    :param power: степень\n",
        "    :param args: любое количество цифр\n",
        "    :return: результат вычисления\n",
        "    \"\"\"\n",
        "    result = sum(args) ** power\n",
        "    return result\n",
        "\n",
        "print(pow_many(1, 1, 2,) == 3)  # True -> (1 + 2)**1 == 3\n",
        "print(pow_many(1, 2, 3) == 5)  # True -> (2 + 3)**1 == 5\n",
        "print(pow_many(2, 1, 1) == 4)  # True -> (1 + 1)**2 == 4\n",
        "print(pow_many(3, 2) == 8)     # True -> 2**3 == 8\n",
        "print(pow_many(2, 1, 2, 3, 4) == 100)  # True -> (1 + 2 + 3 + 4)**2 == 10**2 == 100\n",
        "\n",
        "# Вызов функции с power=3, аргументами 2 и 5\n",
        "result1 = pow_many(3, 2, 5)\n",
        "print(result1)  # Вывод: 343\n",
        "\n",
        "result2 = pow_many(2, 2, 5, 7, 10)\n",
        "print(result2)  # Вывод: 576\n"
      ],
      "metadata": {
        "colab": {
          "base_uri": "https://localhost:8080/"
        },
        "id": "mHHT0gvXSCJm",
        "outputId": "40a70615-f19d-4b87-bda6-51cbe5023b73"
      },
      "execution_count": null,
      "outputs": [
        {
          "output_type": "stream",
          "name": "stdout",
          "text": [
            "True\n",
            "True\n",
            "True\n",
            "True\n",
            "True\n",
            "343\n",
            "576\n"
          ]
        }
      ]
    },
    {
      "cell_type": "code",
      "source": [
        "def print_key_val(**kwargs):\n",
        "    \"\"\"\n",
        "    Функция выводит переданные параметры в виде key --> value\n",
        "    key - имя параметра\n",
        "    value - значение параметра\n",
        "    :param kwargs: любое количество именованных параметров\n",
        "    :return: None\n",
        "    \"\"\"\n",
        "    for key, value in kwargs.items():\n",
        "        print(f\"{key} --> {value}\")\n",
        "\n",
        "print_key_val(name='Max', age=21)\n",
        "print_key_val(animal='Cat', is_animal=True)\n",
        "print_key_val(age=55, is_animal=True)\n",
        "\n"
      ],
      "metadata": {
        "colab": {
          "base_uri": "https://localhost:8080/"
        },
        "id": "I7GISAgyXOg1",
        "outputId": "9d86f96f-4988-4b2f-8ff1-4098c6e29ea9"
      },
      "execution_count": null,
      "outputs": [
        {
          "output_type": "stream",
          "name": "stdout",
          "text": [
            "name --> Max\n",
            "age --> 21\n",
            "animal --> Cat\n",
            "is_animal --> True\n",
            "age --> 55\n",
            "is_animal --> True\n"
          ]
        }
      ]
    },
    {
      "cell_type": "code",
      "source": [
        "def my_filter(iterable, function):\n",
        "    \"\"\"\n",
        "    (Усложненное задание со *)\n",
        "    Функция фильтрует последовательность iterable и возвращает новую.\n",
        "    Если function от элемента последовательности возвращает True, то элемент входит в новую последовательность, иначе нет.\n",
        "    :param iterable: входная последовательность\n",
        "    :param function: функция фильтрации\n",
        "    :return: новая отфильтрованная последовательность\n",
        "    \"\"\"\n",
        "    filtered_list = [item for item in iterable if function(item)]\n",
        "    return filtered_list\n",
        "\n",
        "print(my_filter([1, 2, 3, 4, 5], lambda x: x > 3) == [4, 5])  # True\n",
        "print(my_filter([1, 2, 3, 4, 5], lambda x: x == 2) == [2])  # True\n",
        "print(my_filter([1, 2, 3, 4, 5], lambda x: x != 3) == [1, 2, 4, 5])  # True\n",
        "print(my_filter(['a', 'b', 'c', 'd'], lambda x: x in 'abba') == ['a', 'b'])  # True"
      ],
      "metadata": {
        "colab": {
          "base_uri": "https://localhost:8080/"
        },
        "id": "mPYx9KdBYMwB",
        "outputId": "d87e5bf8-1cfd-4f42-8650-678f3db0f5b8"
      },
      "execution_count": null,
      "outputs": [
        {
          "output_type": "stream",
          "name": "stdout",
          "text": [
            "True\n",
            "True\n",
            "True\n",
            "True\n"
          ]
        }
      ]
    }
  ]
}